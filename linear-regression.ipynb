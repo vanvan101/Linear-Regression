{
 "cells": [
  {
   "cell_type": "code",
   "execution_count": 1,
   "id": "a60f776f",
   "metadata": {
    "_cell_guid": "b1076dfc-b9ad-4769-8c92-a6c4dae69d19",
    "_uuid": "8f2839f25d086af736a60e9eeb907d3b93b6e0e5",
    "execution": {
     "iopub.execute_input": "2022-07-08T15:47:49.301570Z",
     "iopub.status.busy": "2022-07-08T15:47:49.300266Z",
     "iopub.status.idle": "2022-07-08T15:47:49.317695Z",
     "shell.execute_reply": "2022-07-08T15:47:49.318353Z",
     "shell.execute_reply.started": "2022-07-04T12:22:20.682863Z"
    },
    "papermill": {
     "duration": 0.036441,
     "end_time": "2022-07-08T15:47:49.318668",
     "exception": false,
     "start_time": "2022-07-08T15:47:49.282227",
     "status": "completed"
    },
    "tags": []
   },
   "outputs": [
    {
     "name": "stdout",
     "output_type": "stream",
     "text": [
      "/kaggle/input/data-bbri/Data BBRI.csv\n"
     ]
    }
   ],
   "source": [
    "# This Python 3 environment comes with many helpful analytics libraries installed\n",
    "# It is defined by the kaggle/python Docker image: https://github.com/kaggle/docker-python\n",
    "# For example, here's several helpful packages to load\n",
    "\n",
    "import numpy as np # linear algebra\n",
    "import pandas as pd # data processing, CSV file I/O (e.g. pd.read_csv)\n",
    "\n",
    "# Input data files are available in the read-only \"../input/\" directory\n",
    "# For example, running this (by clicking run or pressing Shift+Enter) will list all files under the input directory\n",
    "\n",
    "import os\n",
    "for dirname, _, filenames in os.walk('/kaggle/input'):\n",
    "    for filename in filenames:\n",
    "        print(os.path.join(dirname, filename))\n",
    "\n",
    "# You can write up to 20GB to the current directory (/kaggle/working/) that gets preserved as output when you create a version using \"Save & Run All\" \n",
    "# You can also write temporary files to /kaggle/temp/, but they won't be saved outside of the current session"
   ]
  },
  {
   "cell_type": "code",
   "execution_count": 2,
   "id": "3835c971",
   "metadata": {
    "execution": {
     "iopub.execute_input": "2022-07-08T15:47:49.352881Z",
     "iopub.status.busy": "2022-07-08T15:47:49.351843Z",
     "iopub.status.idle": "2022-07-08T15:47:49.354872Z",
     "shell.execute_reply": "2022-07-08T15:47:49.354230Z",
     "shell.execute_reply.started": "2022-07-04T12:22:20.723318Z"
    },
    "papermill": {
     "duration": 0.021749,
     "end_time": "2022-07-08T15:47:49.355049",
     "exception": false,
     "start_time": "2022-07-08T15:47:49.333300",
     "status": "completed"
    },
    "tags": []
   },
   "outputs": [],
   "source": [
    "import numpy as np\n",
    "import pandas as pd"
   ]
  },
  {
   "cell_type": "code",
   "execution_count": 3,
   "id": "3378075b",
   "metadata": {
    "execution": {
     "iopub.execute_input": "2022-07-08T15:47:49.387490Z",
     "iopub.status.busy": "2022-07-08T15:47:49.386594Z",
     "iopub.status.idle": "2022-07-08T15:47:49.412775Z",
     "shell.execute_reply": "2022-07-08T15:47:49.413423Z",
     "shell.execute_reply.started": "2022-07-04T12:22:20.728728Z"
    },
    "papermill": {
     "duration": 0.04591,
     "end_time": "2022-07-08T15:47:49.413614",
     "exception": false,
     "start_time": "2022-07-08T15:47:49.367704",
     "status": "completed"
    },
    "tags": []
   },
   "outputs": [
    {
     "data": {
      "text/html": [
       "<div>\n",
       "<style scoped>\n",
       "    .dataframe tbody tr th:only-of-type {\n",
       "        vertical-align: middle;\n",
       "    }\n",
       "\n",
       "    .dataframe tbody tr th {\n",
       "        vertical-align: top;\n",
       "    }\n",
       "\n",
       "    .dataframe thead th {\n",
       "        text-align: right;\n",
       "    }\n",
       "</style>\n",
       "<table border=\"1\" class=\"dataframe\">\n",
       "  <thead>\n",
       "    <tr style=\"text-align: right;\">\n",
       "      <th></th>\n",
       "      <th>JKSE</th>\n",
       "      <th>BBRI</th>\n",
       "    </tr>\n",
       "  </thead>\n",
       "  <tbody>\n",
       "    <tr>\n",
       "      <th>0</th>\n",
       "      <td>5995</td>\n",
       "      <td>4050</td>\n",
       "    </tr>\n",
       "    <tr>\n",
       "      <th>1</th>\n",
       "      <td>5947</td>\n",
       "      <td>4260</td>\n",
       "    </tr>\n",
       "    <tr>\n",
       "      <th>2</th>\n",
       "      <td>5985</td>\n",
       "      <td>3940</td>\n",
       "    </tr>\n",
       "    <tr>\n",
       "      <th>3</th>\n",
       "      <td>6070</td>\n",
       "      <td>3710</td>\n",
       "    </tr>\n",
       "    <tr>\n",
       "      <th>4</th>\n",
       "      <td>6150</td>\n",
       "      <td>3572</td>\n",
       "    </tr>\n",
       "  </tbody>\n",
       "</table>\n",
       "</div>"
      ],
      "text/plain": [
       "   JKSE  BBRI\n",
       "0  5995  4050\n",
       "1  5947  4260\n",
       "2  5985  3940\n",
       "3  6070  3710\n",
       "4  6150  3572"
      ]
     },
     "execution_count": 3,
     "metadata": {},
     "output_type": "execute_result"
    }
   ],
   "source": [
    "data = pd.read_csv('../input/data-bbri/Data BBRI.csv')\n",
    "data.head()"
   ]
  },
  {
   "cell_type": "code",
   "execution_count": 4,
   "id": "36270b23",
   "metadata": {
    "execution": {
     "iopub.execute_input": "2022-07-08T15:47:49.444763Z",
     "iopub.status.busy": "2022-07-08T15:47:49.444079Z",
     "iopub.status.idle": "2022-07-08T15:47:49.449842Z",
     "shell.execute_reply": "2022-07-08T15:47:49.450693Z",
     "shell.execute_reply.started": "2022-07-04T12:22:20.77354Z"
    },
    "papermill": {
     "duration": 0.024019,
     "end_time": "2022-07-08T15:47:49.450969",
     "exception": false,
     "start_time": "2022-07-08T15:47:49.426950",
     "status": "completed"
    },
    "tags": []
   },
   "outputs": [
    {
     "name": "stdout",
     "output_type": "stream",
     "text": [
      "(12, 2)\n"
     ]
    }
   ],
   "source": [
    "print(data.shape)"
   ]
  },
  {
   "cell_type": "code",
   "execution_count": 5,
   "id": "c11ac027",
   "metadata": {
    "execution": {
     "iopub.execute_input": "2022-07-08T15:47:49.491281Z",
     "iopub.status.busy": "2022-07-08T15:47:49.484054Z",
     "iopub.status.idle": "2022-07-08T15:47:49.493495Z",
     "shell.execute_reply": "2022-07-08T15:47:49.494104Z",
     "shell.execute_reply.started": "2022-07-04T12:22:20.781642Z"
    },
    "papermill": {
     "duration": 0.028541,
     "end_time": "2022-07-08T15:47:49.494366",
     "exception": false,
     "start_time": "2022-07-08T15:47:49.465825",
     "status": "completed"
    },
    "tags": []
   },
   "outputs": [],
   "source": [
    "X = data['JKSE'].values\n",
    "Y = data['BBRI'].values"
   ]
  },
  {
   "cell_type": "code",
   "execution_count": 6,
   "id": "a3775d88",
   "metadata": {
    "execution": {
     "iopub.execute_input": "2022-07-08T15:47:49.531699Z",
     "iopub.status.busy": "2022-07-08T15:47:49.530972Z",
     "iopub.status.idle": "2022-07-08T15:47:49.533884Z",
     "shell.execute_reply": "2022-07-08T15:47:49.534404Z",
     "shell.execute_reply.started": "2022-07-04T12:22:20.79891Z"
    },
    "papermill": {
     "duration": 0.025348,
     "end_time": "2022-07-08T15:47:49.534587",
     "exception": false,
     "start_time": "2022-07-08T15:47:49.509239",
     "status": "completed"
    },
    "tags": []
   },
   "outputs": [
    {
     "name": "stdout",
     "output_type": "stream",
     "text": [
      "0.5740850972346319 420.89721797980155\n"
     ]
    }
   ],
   "source": [
    "#Mean X and Y\n",
    "mean_x = np.mean(X)\n",
    "mean_y = np.mean(Y)\n",
    "\n",
    "#Total number of values\n",
    "m = len(X)\n",
    "\n",
    "#using the formula to calculate b1 and b2\n",
    "numer = 0\n",
    "denom = 0\n",
    "for i in range(m):\n",
    "    numer += (X[i] - mean_x) * (Y[i]- mean_y)\n",
    "    denom += (X[i] - mean_x) ** 2\n",
    "b1 = numer/denom\n",
    "b0 = mean_y - (b1 * mean_x)\n",
    "\n",
    "#Print coefficients\n",
    "print(b1,b0)"
   ]
  },
  {
   "cell_type": "code",
   "execution_count": 7,
   "id": "4ae21090",
   "metadata": {
    "execution": {
     "iopub.execute_input": "2022-07-08T15:47:49.568375Z",
     "iopub.status.busy": "2022-07-08T15:47:49.567670Z",
     "iopub.status.idle": "2022-07-08T15:47:49.573964Z",
     "shell.execute_reply": "2022-07-08T15:47:49.574468Z",
     "shell.execute_reply.started": "2022-07-04T12:22:20.812732Z"
    },
    "papermill": {
     "duration": 0.024232,
     "end_time": "2022-07-08T15:47:49.574657",
     "exception": false,
     "start_time": "2022-07-08T15:47:49.550425",
     "status": "completed"
    },
    "tags": []
   },
   "outputs": [],
   "source": [
    "%matplotlib inline\n",
    "import matplotlib.pyplot as plt\n",
    "plt.rcParams['figure.figsize'] = (20.0, 10.0)"
   ]
  },
  {
   "cell_type": "code",
   "execution_count": 8,
   "id": "c320e4a6",
   "metadata": {
    "execution": {
     "iopub.execute_input": "2022-07-08T15:47:49.607664Z",
     "iopub.status.busy": "2022-07-08T15:47:49.606902Z",
     "iopub.status.idle": "2022-07-08T15:47:49.939237Z",
     "shell.execute_reply": "2022-07-08T15:47:49.939892Z",
     "shell.execute_reply.started": "2022-07-04T12:22:20.826401Z"
    },
    "papermill": {
     "duration": 0.35041,
     "end_time": "2022-07-08T15:47:49.940126",
     "exception": false,
     "start_time": "2022-07-08T15:47:49.589716",
     "status": "completed"
    },
    "tags": []
   },
   "outputs": [
    {
     "data": {
      "image/png": "[encoded data removed]",
      "text/plain": [
       "<Figure size 1440x720 with 1 Axes>"
      ]
     },
     "metadata": {
      "needs_background": "light"
     },
     "output_type": "display_data"
    }
   ],
   "source": [
    "#Plotting values and regression line\n",
    "max_x = np.max(X) + 100\n",
    "min_x = np.min(X) - 100\n",
    "\n",
    "#Calculating line values x and y\n",
    "x = np.linspace(min_x, max_x, 1000)\n",
    "y = b0 + b1 * x\n",
    "\n",
    "#Ploting line\n",
    "plt.plot(x,y, color='#58b970', label = 'Regression Line')\n",
    "\n",
    "#PLoting Scatter Points\n",
    "plt.scatter(X,Y, c='#ef5423', label='Scatter PLot')\n",
    "\n",
    "plt.xlabel('JKSE')\n",
    "plt.ylabel('BBRI')\n",
    "plt.legend()\n",
    "plt.show()"
   ]
  },
  {
   "cell_type": "code",
   "execution_count": 9,
   "id": "5421bedd",
   "metadata": {
    "execution": {
     "iopub.execute_input": "2022-07-08T15:47:49.978894Z",
     "iopub.status.busy": "2022-07-08T15:47:49.978193Z",
     "iopub.status.idle": "2022-07-08T15:47:49.981065Z",
     "shell.execute_reply": "2022-07-08T15:47:49.981678Z",
     "shell.execute_reply.started": "2022-07-04T12:22:21.15548Z"
    },
    "papermill": {
     "duration": 0.026199,
     "end_time": "2022-07-08T15:47:49.981851",
     "exception": false,
     "start_time": "2022-07-08T15:47:49.955652",
     "status": "completed"
    },
    "tags": []
   },
   "outputs": [
    {
     "name": "stdout",
     "output_type": "stream",
     "text": [
      "0.4635445654441269\n"
     ]
    }
   ],
   "source": [
    "ss_t = 0\n",
    "ss_r = 0\n",
    "for i in range(m):\n",
    "    y_pred = b0 + b1 * X[i]\n",
    "    ss_t += (Y[i] - mean_y) ** 2\n",
    "    ss_r += (Y[i] - y_pred) ** 2\n",
    "r2 = 1 - (ss_r/ss_t)\n",
    "print(r2)"
   ]
  },
  {
   "cell_type": "code",
   "execution_count": null,
   "id": "81b4769e",
   "metadata": {
    "papermill": {
     "duration": 0.018016,
     "end_time": "2022-07-08T15:47:50.015408",
     "exception": false,
     "start_time": "2022-07-08T15:47:49.997392",
     "status": "completed"
    },
    "tags": []
   },
   "outputs": [],
   "source": []
  },
  {
   "cell_type": "code",
   "execution_count": null,
   "id": "1d1fb8b6",
   "metadata": {
    "papermill": {
     "duration": 0.015311,
     "end_time": "2022-07-08T15:47:50.046558",
     "exception": false,
     "start_time": "2022-07-08T15:47:50.031247",
     "status": "completed"
    },
    "tags": []
   },
   "outputs": [],
   "source": []
  }
 ],
 "metadata": {
  "kernelspec": {
   "display_name": "Python 3",
   "language": "python",
   "name": "python3"
  },
  "language_info": {
   "codemirror_mode": {
    "name": "ipython",
    "version": 3
   },
   "file_extension": ".py",
   "mimetype": "text/x-python",
   "name": "python",
   "nbconvert_exporter": "python",
   "pygments_lexer": "ipython3",
   "version": "3.7.12"
  },
  "papermill": {
   "default_parameters": {},
   "duration": 13.180217,
   "end_time": "2022-07-08T15:47:50.774358",
   "environment_variables": {},
   "exception": null,
   "input_path": "__notebook__.ipynb",
   "output_path": "__notebook__.ipynb",
   "parameters": {},
   "start_time": "2022-07-08T15:47:37.594141",
   "version": "2.3.3"
  }
 },
 "nbformat": 4,
 "nbformat_minor": 5
}
